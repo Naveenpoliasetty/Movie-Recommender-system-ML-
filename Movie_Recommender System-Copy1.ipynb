{
 "cells": [
  {
   "cell_type": "markdown",
   "id": "5aac21ca",
   "metadata": {},
   "source": [
    "# Movie Recommender System\n",
    "### Using pandas and numpy "
   ]
  },
  {
   "cell_type": "code",
   "execution_count": 2,
   "id": "393d174a",
   "metadata": {},
   "outputs": [
    {
     "data": {
      "application/javascript": [
       "\n",
       "            setTimeout(function() {\n",
       "                var nbb_cell_id = 2;\n",
       "                var nbb_unformatted_code = \"import numpy as np\\nimport pandas as pd\\nimport nb_black\\n\\n%load_ext nb_black\";\n",
       "                var nbb_formatted_code = \"import numpy as np\\nimport pandas as pd\\nimport nb_black\\n\\n%load_ext nb_black\";\n",
       "                var nbb_cells = Jupyter.notebook.get_cells();\n",
       "                for (var i = 0; i < nbb_cells.length; ++i) {\n",
       "                    if (nbb_cells[i].input_prompt_number == nbb_cell_id) {\n",
       "                        if (nbb_cells[i].get_text() == nbb_unformatted_code) {\n",
       "                             nbb_cells[i].set_text(nbb_formatted_code);\n",
       "                        }\n",
       "                        break;\n",
       "                    }\n",
       "                }\n",
       "            }, 500);\n",
       "            "
      ],
      "text/plain": [
       "<IPython.core.display.Javascript object>"
      ]
     },
     "metadata": {},
     "output_type": "display_data"
    }
   ],
   "source": [
    "import numpy as np\n",
    "import pandas as pd\n",
    "import nb_black\n",
    "\n",
    "%load_ext nb_black"
   ]
  },
  {
   "cell_type": "markdown",
   "id": "a4fa43e5",
   "metadata": {},
   "source": [
    "The first part of the code reads in two csv files containing information about movies and user ratings, and then merges them together into one dataframe using the 'movieId' column as the common key.\n",
    "The variable 't_s' is set to the name of a specific movie, 'Harry Potter and the Chamber of Secrets (2002)'."
   ]
  },
  {
   "cell_type": "code",
   "execution_count": null,
   "id": "c749ba3b",
   "metadata": {},
   "outputs": [],
   "source": [
    "t_s = str(input(\"Which is you're recently watched movie\"))"
   ]
  },
  {
   "cell_type": "code",
   "execution_count": null,
   "id": "96edd845",
   "metadata": {},
   "outputs": [],
   "source": [
    "mv = pd.read_csv(\"movies.csv\")\n",
    "rt = pd.read_csv(\"ratings.csv\")\n",
    "df = mv.merge(rt, on=\"movieId\")\n",
    "#t_s = \"Harry Potter and the Chamber of Secrets (2002)\""
   ]
  },
  {
   "cell_type": "markdown",
   "id": "186b3065",
   "metadata": {},
   "source": [
    "Here we creating a dataframe named 'movie_db' <br>\n",
    "So I am trying to retrieve data of users who have saw this movie say \"Harry Potter and the Chamber of Secrets (2002)\" and sorting them with respect to the ratings in an descending order ie from 5 to 0<br>"
   ]
  },
  {
   "cell_type": "code",
   "execution_count": null,
   "id": "6a4f64b1",
   "metadata": {},
   "outputs": [],
   "source": [
    "movie_db = df[df[\"title\"] == t_s].sort_values(by=\"rating\", ascending=False)\n",
    "dff = movie_db[\"userId\"].reset_index()\n",
    "dff = dff.iloc[:5]\n",
    "dff.drop([\"index\"], axis=1, inplace=True)"
   ]
  },
  {
   "cell_type": "markdown",
   "id": "d5675bfd",
   "metadata": {},
   "source": [
    "So we have intialized two DataFrames and a list\n",
    "The rated movies is a Data Frame where the data of the movies which were rated by the of users will be stored\n",
    "The extracted data will be stored in the form of list in recom_movies\n",
    "And the 'd' Data Frame is a temporary data frame\n"
   ]
  },
  {
   "cell_type": "markdown",
   "id": "f6ba2867",
   "metadata": {},
   "source": [
    "## Movie Recommender Mechanism\n",
    "Initially I have the data of top 5 users who have saw the movie. In the loop I am retrieving the data of those users from the main dataset with respect to the user value. This data consist of movies with 5 star rated. From each and every user I sorting the top 5 movies and concatenating them with the previous dataset of the users rated movies. And at last I took the all unique movies and that's the output "
   ]
  },
  {
   "cell_type": "code",
   "execution_count": null,
   "id": "6f852f66",
   "metadata": {},
   "outputs": [],
   "source": [
    "rated_movies = pd.DataFrame()\n",
    "recom_movies = []\n",
    "d = pd.DataFrame()\n",
    "for user in dff[\"userId\"].values:\n",
    "    d = df[df[\"userId\"] == user].sort_values(by=\"rating\", ascending=False).iloc[:5]\n",
    "    rated_movies = pd.concat([rated_movies, d], sort=False)\n",
    "    d = d.iloc[0:0]\n",
    "rated_movies = rated_movies.sort_values(by=\"title\", ascending=True).reset_index()\n",
    "recom_movies = rated_movies.drop([\"index\"], axis=1, inplace=True)\n",
    "recom_movies = rated_movies[\"title\"].unique()\n",
    "print(\"The Recommended Movies are :\\n\", recom_movies)"
   ]
  },
  {
   "cell_type": "markdown",
   "id": "4ccf8ba9",
   "metadata": {},
   "source": [
    "## The Whole Program"
   ]
  },
  {
   "cell_type": "code",
   "execution_count": 4,
   "id": "e1d7748c",
   "metadata": {},
   "outputs": [
    {
     "name": "stdout",
     "output_type": "stream",
     "text": [
      "Which is you're recently watched movieSpider-Man 2 (2004)\n",
      "The Recommended Movies are :\n",
      " ['Addams Family, The (1991)' 'Annie Hall (1977)'\n",
      " 'Back to the Future (1985)' 'Blue Velvet (1986)'\n",
      " 'Bourne Ultimatum, The (2007)' 'Bowling for Columbine (2002)'\n",
      " 'Desperado (1995)' 'Ginger Snaps (2000)' 'Godfather, The (1972)'\n",
      " 'In Bruges (2008)' 'Indiana Jones and the Temple of Doom (1984)'\n",
      " 'John Wick (2014)' 'Matrix Reloaded, The (2003)'\n",
      " 'Once Upon a Time in America (1984)'\n",
      " \"Pan's Labyrinth (Laberinto del fauno, El) (2006)\" 'Pitch Black (2000)'\n",
      " 'Raging Bull (1980)' 'Spider-Man 2 (2004)' 'Thing, The (1982)'\n",
      " 'Toy Story (1995)' 'Willow (1988)' 'X2: X-Men United (2003)']\n"
     ]
    },
    {
     "data": {
      "application/javascript": [
       "\n",
       "            setTimeout(function() {\n",
       "                var nbb_cell_id = 4;\n",
       "                var nbb_unformatted_code = \"t_s = str(input(\\\"Which is you're recently watched movie\\\"))\\nmv = pd.read_csv(\\\"movies.csv\\\")\\nrt = pd.read_csv(\\\"ratings.csv\\\")\\ndf = mv.merge(rt, on=\\\"movieId\\\")\\nmovie_db = df[df[\\\"title\\\"] == t_s].sort_values(by=\\\"rating\\\", ascending=False)\\ndff = movie_db[\\\"userId\\\"].reset_index()\\ndff = dff.iloc[:5]\\ndff.drop([\\\"index\\\"], axis=1, inplace=True)\\nrated_movies = pd.DataFrame()\\nrecom_movies = []\\nd = pd.DataFrame()\\nfor user in dff[\\\"userId\\\"].values:\\n    d = df[df[\\\"userId\\\"] == user].sort_values(by=\\\"rating\\\", ascending=False).iloc[:5]\\n    rated_movies = pd.concat([rated_movies, d], sort=False)\\n    d = d.iloc[0:0]\\nrated_movies = rated_movies.sort_values(by=\\\"title\\\", ascending=True).reset_index()\\nrecom_movies = rated_movies.drop([\\\"index\\\"], axis=1, inplace=True)\\nrecom_movies = rated_movies[\\\"title\\\"].unique()\\nprint(\\\"The Recommended Movies are :\\\\n\\\", recom_movies)\";\n",
       "                var nbb_formatted_code = \"t_s = str(input(\\\"Which is you're recently watched movie\\\"))\\nmv = pd.read_csv(\\\"movies.csv\\\")\\nrt = pd.read_csv(\\\"ratings.csv\\\")\\ndf = mv.merge(rt, on=\\\"movieId\\\")\\nmovie_db = df[df[\\\"title\\\"] == t_s].sort_values(by=\\\"rating\\\", ascending=False)\\ndff = movie_db[\\\"userId\\\"].reset_index()\\ndff = dff.iloc[:5]\\ndff.drop([\\\"index\\\"], axis=1, inplace=True)\\nrated_movies = pd.DataFrame()\\nrecom_movies = []\\nd = pd.DataFrame()\\nfor user in dff[\\\"userId\\\"].values:\\n    d = df[df[\\\"userId\\\"] == user].sort_values(by=\\\"rating\\\", ascending=False).iloc[:5]\\n    rated_movies = pd.concat([rated_movies, d], sort=False)\\n    d = d.iloc[0:0]\\nrated_movies = rated_movies.sort_values(by=\\\"title\\\", ascending=True).reset_index()\\nrecom_movies = rated_movies.drop([\\\"index\\\"], axis=1, inplace=True)\\nrecom_movies = rated_movies[\\\"title\\\"].unique()\\nprint(\\\"The Recommended Movies are :\\\\n\\\", recom_movies)\";\n",
       "                var nbb_cells = Jupyter.notebook.get_cells();\n",
       "                for (var i = 0; i < nbb_cells.length; ++i) {\n",
       "                    if (nbb_cells[i].input_prompt_number == nbb_cell_id) {\n",
       "                        if (nbb_cells[i].get_text() == nbb_unformatted_code) {\n",
       "                             nbb_cells[i].set_text(nbb_formatted_code);\n",
       "                        }\n",
       "                        break;\n",
       "                    }\n",
       "                }\n",
       "            }, 500);\n",
       "            "
      ],
      "text/plain": [
       "<IPython.core.display.Javascript object>"
      ]
     },
     "metadata": {},
     "output_type": "display_data"
    }
   ],
   "source": [
    "t_s = str(input(\"Which is you're recently watched movie\"))\n",
    "mv = pd.read_csv(\"movies.csv\")\n",
    "rt = pd.read_csv(\"ratings.csv\")\n",
    "df = mv.merge(rt, on=\"movieId\")\n",
    "movie_db = df[df[\"title\"] == t_s].sort_values(by=\"rating\", ascending=False)\n",
    "dff = movie_db[\"userId\"].reset_index()\n",
    "dff = dff.iloc[:5]\n",
    "dff.drop([\"index\"], axis=1, inplace=True)\n",
    "rated_movies = pd.DataFrame()\n",
    "recom_movies = []\n",
    "d = pd.DataFrame()\n",
    "for user in dff[\"userId\"].values:\n",
    "    d = df[df[\"userId\"] == user].sort_values(by=\"rating\", ascending=False).iloc[:5]\n",
    "    rated_movies = pd.concat([rated_movies, d], sort=False)\n",
    "    d = d.iloc[0:0]\n",
    "rated_movies = rated_movies.sort_values(by=\"title\", ascending=True).reset_index()\n",
    "recom_movies = rated_movies.drop([\"index\"], axis=1, inplace=True)\n",
    "recom_movies = rated_movies[\"title\"].unique()\n",
    "print(\"The Recommended Movies are :\\n\", recom_movies)"
   ]
  }
 ],
 "metadata": {
  "kernelspec": {
   "display_name": "Python 3 (ipykernel)",
   "language": "python",
   "name": "python3"
  },
  "language_info": {
   "codemirror_mode": {
    "name": "ipython",
    "version": 3
   },
   "file_extension": ".py",
   "mimetype": "text/x-python",
   "name": "python",
   "nbconvert_exporter": "python",
   "pygments_lexer": "ipython3",
   "version": "3.9.13"
  }
 },
 "nbformat": 4,
 "nbformat_minor": 5
}
