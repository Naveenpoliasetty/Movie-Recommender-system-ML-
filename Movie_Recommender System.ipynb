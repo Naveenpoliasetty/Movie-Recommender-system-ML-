{
 "cells": [
  {
   "cell_type": "markdown",
   "id": "fafa705d",
   "metadata": {},
   "source": [
    "# Movie Recommender System\n",
    "### Using pandas and numpy "
   ]
  },
  {
   "cell_type": "code",
   "execution_count": 90,
   "id": "53cc8d59",
   "metadata": {},
   "outputs": [
    {
     "name": "stdout",
     "output_type": "stream",
     "text": [
      "The nb_black extension is already loaded. To reload it, use:\n",
      "  %reload_ext nb_black\n"
     ]
    },
    {
     "data": {
      "application/javascript": [
       "\n",
       "            setTimeout(function() {\n",
       "                var nbb_cell_id = 90;\n",
       "                var nbb_unformatted_code = \"import numpy as np\\nimport pandas as pd\\nimport nb_black\\n\\n%load_ext nb_black\";\n",
       "                var nbb_formatted_code = \"import numpy as np\\nimport pandas as pd\\nimport nb_black\\n\\n%load_ext nb_black\";\n",
       "                var nbb_cells = Jupyter.notebook.get_cells();\n",
       "                for (var i = 0; i < nbb_cells.length; ++i) {\n",
       "                    if (nbb_cells[i].input_prompt_number == nbb_cell_id) {\n",
       "                        if (nbb_cells[i].get_text() == nbb_unformatted_code) {\n",
       "                             nbb_cells[i].set_text(nbb_formatted_code);\n",
       "                        }\n",
       "                        break;\n",
       "                    }\n",
       "                }\n",
       "            }, 500);\n",
       "            "
      ],
      "text/plain": [
       "<IPython.core.display.Javascript object>"
      ]
     },
     "metadata": {},
     "output_type": "display_data"
    }
   ],
   "source": [
    "import numpy as np\n",
    "import pandas as pd\n",
    "import nb_black\n",
    "\n",
    "%load_ext nb_black"
   ]
  },
  {
   "cell_type": "markdown",
   "id": "8968f431",
   "metadata": {},
   "source": [
    "The first part of the code reads in two csv files containing information about movies and user ratings, and then merges them together into one dataframe using the 'movieId' column as the common key.\n",
    "The variable 't_s' is set to the name of a specific movie, 'Harry Potter and the Chamber of Secrets (2002)'."
   ]
  },
  {
   "cell_type": "code",
   "execution_count": 103,
   "id": "08cf5dfe",
   "metadata": {},
   "outputs": [
    {
     "data": {
      "application/javascript": [
       "\n",
       "            setTimeout(function() {\n",
       "                var nbb_cell_id = 103;\n",
       "                var nbb_unformatted_code = \"mv = pd.read_csv(\\\"movies.csv\\\")\\nrt = pd.read_csv(\\\"ratings.csv\\\")\\ndf = mv.merge(rt, on=\\\"movieId\\\")\\nt_s = 'Harry Potter and the Chamber of Secrets (2002)'\";\n",
       "                var nbb_formatted_code = \"mv = pd.read_csv(\\\"movies.csv\\\")\\nrt = pd.read_csv(\\\"ratings.csv\\\")\\ndf = mv.merge(rt, on=\\\"movieId\\\")\\nt_s = \\\"Harry Potter and the Chamber of Secrets (2002)\\\"\";\n",
       "                var nbb_cells = Jupyter.notebook.get_cells();\n",
       "                for (var i = 0; i < nbb_cells.length; ++i) {\n",
       "                    if (nbb_cells[i].input_prompt_number == nbb_cell_id) {\n",
       "                        if (nbb_cells[i].get_text() == nbb_unformatted_code) {\n",
       "                             nbb_cells[i].set_text(nbb_formatted_code);\n",
       "                        }\n",
       "                        break;\n",
       "                    }\n",
       "                }\n",
       "            }, 500);\n",
       "            "
      ],
      "text/plain": [
       "<IPython.core.display.Javascript object>"
      ]
     },
     "metadata": {},
     "output_type": "display_data"
    }
   ],
   "source": [
    "mv = pd.read_csv(\"movies.csv\")\n",
    "rt = pd.read_csv(\"ratings.csv\")\n",
    "df = mv.merge(rt, on=\"movieId\")\n",
    "t_s = \"Harry Potter and the Chamber of Secrets (2002)\""
   ]
  },
  {
   "cell_type": "markdown",
   "id": "cc913879",
   "metadata": {},
   "source": [
    "Here we creating a dataframe named 'movie_db' <br>\n",
    "So I am trying to retrieve data of users who have saw this movie say \"Harry Potter and the Chamber of Secrets (2002)\" and sorting them with respect to the ratings in an descending order ie from 5 to 0<br>"
   ]
  },
  {
   "cell_type": "code",
   "execution_count": 104,
   "id": "83de83e8",
   "metadata": {},
   "outputs": [
    {
     "data": {
      "application/javascript": [
       "\n",
       "            setTimeout(function() {\n",
       "                var nbb_cell_id = 104;\n",
       "                var nbb_unformatted_code = \"movie_db = df[df[\\\"title\\\"] == t_s].sort_values(by=\\\"rating\\\", ascending=False)\\nmovie_db\\ndff = movie_db[\\\"userId\\\"].reset_index()\\ndff = dff.iloc[:5]\\ndff.drop([\\\"index\\\"], axis=1, inplace=True)\";\n",
       "                var nbb_formatted_code = \"movie_db = df[df[\\\"title\\\"] == t_s].sort_values(by=\\\"rating\\\", ascending=False)\\nmovie_db\\ndff = movie_db[\\\"userId\\\"].reset_index()\\ndff = dff.iloc[:5]\\ndff.drop([\\\"index\\\"], axis=1, inplace=True)\";\n",
       "                var nbb_cells = Jupyter.notebook.get_cells();\n",
       "                for (var i = 0; i < nbb_cells.length; ++i) {\n",
       "                    if (nbb_cells[i].input_prompt_number == nbb_cell_id) {\n",
       "                        if (nbb_cells[i].get_text() == nbb_unformatted_code) {\n",
       "                             nbb_cells[i].set_text(nbb_formatted_code);\n",
       "                        }\n",
       "                        break;\n",
       "                    }\n",
       "                }\n",
       "            }, 500);\n",
       "            "
      ],
      "text/plain": [
       "<IPython.core.display.Javascript object>"
      ]
     },
     "metadata": {},
     "output_type": "display_data"
    }
   ],
   "source": [
    "movie_db = df[df[\"title\"] == t_s].sort_values(by=\"rating\", ascending=False)\n",
    "dff = movie_db[\"userId\"].reset_index()\n",
    "dff = dff.iloc[:5]\n",
    "dff.drop([\"index\"], axis=1, inplace=True)"
   ]
  },
  {
   "cell_type": "markdown",
   "id": "7772b4e5",
   "metadata": {},
   "source": [
    "So we have intialized two DataFrames and a list\n",
    "The rated movies is a Data Frame where the data of the movies which were rated by the of users will be stored\n",
    "The extracted data will be stored in the form of list in recom_movies\n",
    "And the 'd' Data Frame is a temporary data frame\n"
   ]
  },
  {
   "cell_type": "markdown",
   "id": "c574fb69",
   "metadata": {},
   "source": [
    "## Movie Recommender Mechanism\n",
    "Initially I have the data of top 5 users who have saw the movie. In the loop I am retrieving the data of those users from the main dataset with respect to the user value. This data consist of movies with 5 star rated. From each and every user I sorting the top 5 movies and concatenating them with the previous dataset of the users rated movies. And at last I took the all unique movies and that's the output "
   ]
  },
  {
   "cell_type": "code",
   "execution_count": 109,
   "id": "7984eb4d",
   "metadata": {},
   "outputs": [
    {
     "name": "stdout",
     "output_type": "stream",
     "text": [
      "The Recommended Movies are :\n",
      " ['Bull Durham (1988)' 'Day of the Doctor, The (2013)'\n",
      " 'Doctor Who: The Time of the Doctor (2013)'\n",
      " 'Eternal Sunshine of the Spotless Mind (2004)' 'Flawless (1999)'\n",
      " 'Harry Potter and the Chamber of Secrets (2002)'\n",
      " 'Harry Potter and the Goblet of Fire (2005)'\n",
      " \"Harry Potter and the Sorcerer's Stone (a.k.a. Harry Potter and the Philosopher's Stone) (2001)\"\n",
      " 'Help, The (2011)' 'Home Alone 2: Lost in New York (1992)'\n",
      " \"It's the Great Pumpkin, Charlie Brown (1966)\" 'Juno (2007)'\n",
      " 'Life Aquatic with Steve Zissou, The (2004)'\n",
      " 'Lord of the Rings: The Two Towers, The (2002)'\n",
      " 'Lost in Translation (2003)' 'Perks of Being a Wallflower, The (2012)'\n",
      " 'Spider-Man 2 (2004)' 'Star Trek V: The Final Frontier (1989)'\n",
      " 'Star Trek: The Motion Picture (1979)'\n",
      " 'Star Wars: Episode IV - A New Hope (1977)'\n",
      " 'Star Wars: Episode V - The Empire Strikes Back (1980)'\n",
      " 'Terminal, The (2004)' 'Yes Man (2008)']\n"
     ]
    },
    {
     "data": {
      "application/javascript": [
       "\n",
       "            setTimeout(function() {\n",
       "                var nbb_cell_id = 109;\n",
       "                var nbb_unformatted_code = \"rated_movies = pd.DataFrame()\\nrecom_movies = []\\nd = pd.DataFrame()\\nfor user in dff[\\\"userId\\\"].values:\\n    d = df[df[\\\"userId\\\"] == user].sort_values(by=\\\"rating\\\", ascending=False).iloc[:5]\\n    rated_movies = pd.concat([rated_movies, d], sort=False)\\n    d = d.iloc[0:0]\\nrated_movies = rated_movies.sort_values(by=\\\"title\\\", ascending=True).reset_index()\\nrecom_movies = rated_movies.drop([\\\"index\\\"], axis=1, inplace=True)\\nrecom_movies = rated_movies[\\\"title\\\"].unique()\\nprint(\\\"The Recommended Movies are :\\\\n\\\", recom_movies)\";\n",
       "                var nbb_formatted_code = \"rated_movies = pd.DataFrame()\\nrecom_movies = []\\nd = pd.DataFrame()\\nfor user in dff[\\\"userId\\\"].values:\\n    d = df[df[\\\"userId\\\"] == user].sort_values(by=\\\"rating\\\", ascending=False).iloc[:5]\\n    rated_movies = pd.concat([rated_movies, d], sort=False)\\n    d = d.iloc[0:0]\\nrated_movies = rated_movies.sort_values(by=\\\"title\\\", ascending=True).reset_index()\\nrecom_movies = rated_movies.drop([\\\"index\\\"], axis=1, inplace=True)\\nrecom_movies = rated_movies[\\\"title\\\"].unique()\\nprint(\\\"The Recommended Movies are :\\\\n\\\", recom_movies)\";\n",
       "                var nbb_cells = Jupyter.notebook.get_cells();\n",
       "                for (var i = 0; i < nbb_cells.length; ++i) {\n",
       "                    if (nbb_cells[i].input_prompt_number == nbb_cell_id) {\n",
       "                        if (nbb_cells[i].get_text() == nbb_unformatted_code) {\n",
       "                             nbb_cells[i].set_text(nbb_formatted_code);\n",
       "                        }\n",
       "                        break;\n",
       "                    }\n",
       "                }\n",
       "            }, 500);\n",
       "            "
      ],
      "text/plain": [
       "<IPython.core.display.Javascript object>"
      ]
     },
     "metadata": {},
     "output_type": "display_data"
    }
   ],
   "source": [
    "rated_movies = pd.DataFrame()\n",
    "recom_movies = []\n",
    "d = pd.DataFrame()\n",
    "for user in dff[\"userId\"].values:\n",
    "    d = df[df[\"userId\"] == user].sort_values(by=\"rating\", ascending=False).iloc[:5]\n",
    "    rated_movies = pd.concat([rated_movies, d], sort=False)\n",
    "    d = d.iloc[0:0]\n",
    "rated_movies = rated_movies.sort_values(by=\"title\", ascending=True).reset_index()\n",
    "recom_movies = rated_movies.drop([\"index\"], axis=1, inplace=True)\n",
    "recom_movies = rated_movies[\"title\"].unique()\n",
    "print(\"The Recommended Movies are :\\n\", recom_movies)"
   ]
  }
 ],
 "metadata": {
  "kernelspec": {
   "display_name": "Python 3 (ipykernel)",
   "language": "python",
   "name": "python3"
  },
  "language_info": {
   "codemirror_mode": {
    "name": "ipython",
    "version": 3
   },
   "file_extension": ".py",
   "mimetype": "text/x-python",
   "name": "python",
   "nbconvert_exporter": "python",
   "pygments_lexer": "ipython3",
   "version": "3.9.13"
  }
 },
 "nbformat": 4,
 "nbformat_minor": 5
}
